{
 "cells": [
  {
   "cell_type": "code",
   "execution_count": 2,
   "metadata": {},
   "outputs": [],
   "source": [
    "# Calculations\n",
    "import numpy as np\n",
    "import xarray as xr\n",
    "import pandas as pd\n",
    "import os\n",
    "\n",
    "# Visualisation\n",
    "import matplotlib as mpl\n",
    "import matplotlib.pyplot as plt\n",
    "import matplotlib.animation as animation\n",
    "from IPython.display import HTML\n",
    "import cmocean as cmo"
   ]
  },
  {
   "cell_type": "code",
   "execution_count": 3,
   "metadata": {},
   "outputs": [
    {
     "ename": "FileNotFoundError",
     "evalue": "[Errno 2] No such file or directory: 'animations/CD-Paolo'",
     "output_type": "error",
     "traceback": [
      "\u001b[0;31m---------------------------------------------------------------------------\u001b[0m",
      "\u001b[0;31mFileNotFoundError\u001b[0m                         Traceback (most recent call last)",
      "Cell \u001b[0;32mIn[3], line 9\u001b[0m\n\u001b[1;32m      7\u001b[0m dirName \u001b[39m=\u001b[39m \u001b[39mf\u001b[39m\u001b[39m'\u001b[39m\u001b[39manimations/\u001b[39m\u001b[39m{\u001b[39;00mexp_class\u001b[39m}\u001b[39;00m\u001b[39m'\u001b[39m\n\u001b[1;32m      8\u001b[0m \u001b[39mtry\u001b[39;00m:\n\u001b[0;32m----> 9\u001b[0m     os\u001b[39m.\u001b[39;49mmkdir(dirName)\n\u001b[1;32m     10\u001b[0m     \u001b[39mprint\u001b[39m(\u001b[39m\"\u001b[39m\u001b[39mDirectory \u001b[39m\u001b[39m\"\u001b[39m , dirName ,  \u001b[39m\"\u001b[39m\u001b[39m Created \u001b[39m\u001b[39m\"\u001b[39m)\n\u001b[1;32m     11\u001b[0m \u001b[39mexcept\u001b[39;00m \u001b[39mFileExistsError\u001b[39;00m:\n",
      "\u001b[0;31mFileNotFoundError\u001b[0m: [Errno 2] No such file or directory: 'animations/CD-Paolo'"
     ]
    }
   ],
   "source": [
    "# Specify path experiment\n",
    "exp_class = 'CD-Paolo'\n",
    "run = 'r003_UF020_SY000_EY030'\n",
    "experiment_path = f'../experiments/{exp_class}/{run[:4]}/AA_{run}.nc'\n",
    "\n",
    "# Create directory\n",
    "dirName = f'animations/{exp_class}'\n",
    "try:\n",
    "    os.mkdir(dirName)\n",
    "    print(\"Directory \" , dirName ,  \" Created \")\n",
    "except FileExistsError:\n",
    "    print(\"Directory \" , dirName ,  \" already exists\")\n",
    "\n",
    "save_name = f'animations/{exp_class}/{run}'\n",
    "print(f'Save directory of animations is: {save_name}')\n"
   ]
  },
  {
   "cell_type": "code",
   "execution_count": 79,
   "metadata": {},
   "outputs": [],
   "source": [
    "# mask data that falls out of shelf mask\n",
    "def mask_data(ds):\n",
    "    for vars in ['S','T','D','melt','entr','ent2','detr']:\n",
    "        ds[vars] = xr.where(ds.tmask==1,ds[vars],np.nan)\n",
    "    ds['U'] = xr.where(ds.umask==1,ds['U'],np.nan)\n",
    "    ds['V'] = xr.where(ds.vmask==1,ds['V'],np.nan)\n",
    "    return ds\n",
    "\n",
    "# Save mean values of U, V, D, T, S, melt over the ice shelf -> time-series of the mean variables (need umask/vmask)\n",
    "def compute_timeseries_mean(ds_masked, vars):\n",
    "    \n",
    "    ds_means=[]\n",
    "\n",
    "    for var in vars:\n",
    "        ds_meanvar = ds_masked[var]\n",
    "        ds_meanvar = ds_meanvar.mean(dim=['x','y'])#.rename(f'mean_{var}')\n",
    "        ds_means.append(ds_meanvar)\n",
    "\n",
    "    ds_mean = xr.merge(ds_means)\n",
    "\n",
    "    return ds_mean"
   ]
  },
  {
   "cell_type": "code",
   "execution_count": 80,
   "metadata": {},
   "outputs": [
    {
     "ename": "",
     "evalue": "",
     "output_type": "error",
     "traceback": [
      "\u001b[1;31mThe Kernel crashed while executing code in the the current cell or a previous cell. Please review the code in the cell(s) to identify a possible cause of the failure. Click <a href='https://aka.ms/vscodeJupyterKernelCrash'>here</a> for more info. View Jupyter <a href='command:jupyter.viewOutput'>log</a> for further details."
     ]
    },
    {
     "ename": "",
     "evalue": "",
     "output_type": "error",
     "traceback": [
      "\u001b[1;31mCanceled future for execute_request message before replies were done"
     ]
    }
   ],
   "source": [
    "# Read data, mask data out of ice shelf\n",
    "ds = xr.open_dataset(f'{experiment_path}')\n",
    "ds_m = mask_data(ds)\n",
    "\n",
    "mean_variables = ['melt','D','T','S','U','V','entr','ent2','detr']\n",
    "mean_ds = compute_timeseries_mean(ds_m, mean_variables)\n"
   ]
  },
  {
   "cell_type": "code",
   "execution_count": null,
   "metadata": {},
   "outputs": [],
   "source": [
    "# Define dictionaries for vmin, vmax, cmap en labels associated with the different model variables\n",
    "\n",
    "# OC3\n",
    "#vmins = {'melt':-50, 'D':0,   'T':-2.0, 'S':33.7, 'U':-0.4, 'V':-0.4,'entr': 0, 'ent2': 0, 'detr':0, 'draft':-400}\n",
    "#vmaxs = {'melt':50,  'D':200, 'T':-1.0, 'S':34.3, 'U':0.4,  'V':0.4,'entr': 10, 'ent2': 10, 'detr':10,'draft': 0}\n",
    "\n",
    "# OC4\n",
    "vmins = {'melt':-5, 'D':0,   'T':-2.5, 'S':33.7, 'U':-0.4, 'V':-0.4, 'entr': 1, 'ent2': 1, 'detr':0, 'draft':-400,'mask':0,'tmask':0}\n",
    "vmaxs = {'melt':5,  'D':200, 'T':-1.5, 'S':34.3, 'U':0.4,  'V':0.4,'entr': 2000, 'ent2': 2000, 'detr':10, 'draft':0,'mask':3,'tmask':1}\n",
    "\n",
    "cmaps = {'melt':cmo.cm.balance, 'D':cmo.cm.dense, 'T':cmo.cm.thermal, 'S':cmo.cm.haline, 'U':cmo.cm.balance, 'V':cmo.cm.balance, 'entr': 'Oranges', 'ent2': 'Oranges', 'detr':'Blues','mask':cmo.cm.haline,'draft':cmo.cm.deep,'tmask':cmo.cm.haline}\n",
    "labs =  {'melt':'Melt [m/yr]',  'D':'D [m]',      'T':'T [degC]',     'S':'S [psu]',     'U':'U [m/s]',      'V':'V [m/s]', 'entr': 'entr', 'ent2':'ent2', 'detr':'detr','mask':'mask', 'draft':'draft','tmask':'tmask'}\n",
    "\n",
    "\n",
    "# REALISTIC\n",
    "vmins = {'melt':1, 'D':0,   'T':-1.9, 'S':33.7, 'U':-0.4, 'V':-0.4, 'entr': 1, 'ent2': 1, 'detr':0, 'draft':-1000,'mask':0,'tmask':0}\n",
    "vmaxs = {'melt':200,  'D':200, 'T':2.5, 'S':34.3, 'U':0.4,  'V':0.4,'entr': 2000, 'ent2': 2000, 'detr':10, 'draft':0,'mask':3,'tmask':1}\n",
    "cmaps = {'melt':'inferno', 'D':cmo.cm.dense, 'T':cmo.cm.thermal, 'S':cmo.cm.haline, 'U':cmo.cm.balance, 'V':cmo.cm.balance, 'entr': 'Oranges', 'ent2': 'Oranges', 'detr':'Blues','mask':cmo.cm.haline,'draft':cmo.cm.deep,'tmask':cmo.cm.haline}\n",
    "labs =  {'melt':'Melt [m/yr]',  'D':'D [m]',      'T':'T [degC]',     'S':'S [psu]',     'U':'U [m/s]',      'V':'V [m/s]', 'entr': 'entr', 'ent2':'ent2', 'detr':'detr','mask':'mask', 'draft':'draft','tmask':'tmask'}\n",
    "\n",
    "#vmins = {'melt':-10, 'D':0,   'T':-1.9, 'S':33.7, 'U':-0.4, 'V':-0.4, 'entr': 1, 'ent2': 1, 'detr':0, 'draft':-1000,'mask':0,'tmask':0}\n",
    "#vmaxs = {'melt':10,  'D':200, 'T':2.5, 'S':34.3, 'U':0.4,  'V':0.4,'entr': 2000, 'ent2': 2000, 'detr':10, 'draft':0,'mask':3,'tmask':1}\n",
    "\n",
    "#cmaps = {'melt':cmo.cm.balance, 'D':cmo.cm.dense, 'T':cmo.cm.thermal, 'S':cmo.cm.haline, 'U':cmo.cm.balance, 'V':cmo.cm.balance, 'entr': 'Oranges', 'ent2': 'Oranges', 'detr':'Blues','mask':cmo.cm.haline,'draft':cmo.cm.deep,'tmask':cmo.cm.haline}\n",
    "#labs =  {'melt':'Melt [m/yr]',  'D':'D [m]',      'T':'T [degC]',     'S':'S [psu]',     'U':'U [m/s]',      'V':'V [m/s]', 'entr': 'entr', 'ent2':'ent2', 'detr':'detr','mask':'mask', 'draft':'draft','tmask':'tmask'}\n",
    "\n",
    "\n",
    "\n"
   ]
  },
  {
   "cell_type": "code",
   "execution_count": null,
   "metadata": {},
   "outputs": [],
   "source": [
    "def compute_snapshots(dataset, time_range, variable=None):\n",
    "    \n",
    "    snapshots=[]\n",
    "\n",
    "    for i in time_range:\n",
    "        if variable == None:\n",
    "            snapshots.append(dataset.sel(t=i))\n",
    "        else:\n",
    "            snapshots.append(dataset.sel(t=i)[variable])\n",
    "\n",
    "    return snapshots\n",
    "\n",
    "\n",
    "def animation_vars(dataset, variables, time_range, fps, meanvars=None, savename=None):\n",
    "    \"\"\"\n",
    "    This function generates and possibly saves animations of 2D variables from dataset ds.\n",
    "    \n",
    "    Input:\n",
    "        - ds: xarray dataset, with dimensions [x,y,t]\n",
    "        - vars: 2D variables to be plotted, e.g. ['melt','T']\n",
    "        - time_range: array of days, e.g. np.arange(1,20,1)\n",
    "    \n",
    "     \"\"\"\n",
    "\n",
    "    nVars = len(variables)\n",
    "\n",
    "    snapshots = [None] * nVars\n",
    "    ims = [None] * nVars\n",
    "    ims_g = [None] * nVars\n",
    "    ims_o = [None] * nVars\n",
    "\n",
    "    UF = None\n",
    "    if 'update_frequency' in ds_m.variables:\n",
    "        UF = dataset.update_frequency.values\n",
    "        \n",
    "    if nVars > 2:\n",
    "        fig, ax = plt.subplots(2, 3, figsize = (6*3,2*4.5))\n",
    "    elif nVars == 2:\n",
    "        fig, ax = plt.subplots(nVars,1,figsize=(6,nVars*4.5))\n",
    "\n",
    "    ax = ax.flatten()\n",
    "\n",
    "    #compute snapshots and generate initial figure\n",
    "    ocean_mask  = xr.where(dataset.mask==0, 1, np.nan)\n",
    "    ground_mask = xr.where(dataset.mask==2, 1, np.nan)\n",
    "\n",
    "    ocean_ss = compute_snapshots(ocean_mask, time_range)\n",
    "    ground_ss = compute_snapshots(ground_mask, time_range)\n",
    "\n",
    "    meanmelt = []\n",
    "    for i in time_range:\n",
    "        meanmelt.append(meanvars.sel(t=i).melt.values)\n",
    "\n",
    "    for j, var in enumerate(variables):\n",
    "        snapshots[j] = compute_snapshots(dataset, time_range, var)\n",
    "        ini = snapshots[j][0]\n",
    "\n",
    "        if var == 'entr' or var == 'ent2' or var == 'melt':\n",
    "            normentr=mpl.colors.LogNorm(vmin=vmins[var],vmax=vmaxs[var])\n",
    "            ims[j] = ax[j].pcolormesh(ini.x, ini.y, ini, norm=normentr, cmap=cmaps[var])\n",
    "        else:\n",
    "            ims[j] = ax[j].pcolormesh(ini.x, ini.y, ini, vmin=vmins[var], vmax=vmaxs[var], cmap=cmaps[var])\n",
    "\n",
    "        cbar = fig.colorbar(ims[j], ax = ax[j])\n",
    "        cbar.set_label(labs[var])\n",
    "\n",
    "        ims_o[j] = ax[j].pcolormesh(ini.x,ini.y,ocean_mask.sel(t=1),vmin=0,vmax=3,cmap='gray')\n",
    "        ims_g[j] = ax[j].pcolormesh(ini.x,ini.y,ground_mask.sel(t=1),vmin=0,vmax=1.5,cmap='gray')\n",
    "\n",
    "        if UF is not None:\n",
    "            ax[j].set_title(f'{var}: Day = {snapshots[j][0].t.values}, Year = {np.floor(snapshots[j][0].t.values/UF)}')\n",
    "        else:\n",
    "            ax[j].set_title(f'{var}: Day = {snapshots[j][0].t.values}')\n",
    "\n",
    "\n",
    "        if var == 'melt':\n",
    "            x = dataset.x.values[0]\n",
    "            y = dataset.y.values[0]\n",
    "            text = ax[j].text(x,y,f'{meanmelt[0]:.2f} m/yr',ha='left')\n",
    "\n",
    "    def animate_func(i):\n",
    "        if i % fps == 0:\n",
    "            print( '.', end ='' )\n",
    "        for j, var in enumerate(variables):\n",
    "            ims_g[j].set_array(ground_ss[i])\n",
    "            ims_o[j].set_array(ocean_ss[i])\n",
    "            \n",
    "            ims[j].set_array(snapshots[j][i])\n",
    "            \n",
    "            if UF is not None:\n",
    "                ax[j].set_title(f'{var}: Day = {snapshots[j][i].t.values}, Year = {np.floor((snapshots[j][i].t.values-1)/UF)}')\n",
    "            else:\n",
    "                ax[j].set_title(f'{var}: Day = {snapshots[j][i].t.values}')\n",
    "\n",
    "            if var == 'melt':\n",
    "                text.set_text(f'{meanmelt[i]:.2f} m/s')\n",
    "\n",
    "        return [ims]\n",
    "\n",
    "    anim = animation.FuncAnimation(\n",
    "                               fig, \n",
    "                               animate_func, \n",
    "                               frames = len(time_range),\n",
    "                               interval = 1000 / 400, # in ms\n",
    "                               )\n",
    "\n",
    "    fig.tight_layout()\n",
    "    \n",
    "    anim.save(f'{savename}.mp4', fps=fps, extra_args=['-vcodec', 'libx264'])\n",
    "\n",
    "    print('Done!')\n"
   ]
  },
  {
   "cell_type": "code",
   "execution_count": 1,
   "metadata": {},
   "outputs": [
    {
     "ename": "NameError",
     "evalue": "name 'animation_vars' is not defined",
     "output_type": "error",
     "traceback": [
      "\u001b[0;31m---------------------------------------------------------------------------\u001b[0m",
      "\u001b[0;31mNameError\u001b[0m                                 Traceback (most recent call last)",
      "Cell \u001b[0;32mIn[1], line 2\u001b[0m\n\u001b[1;32m      1\u001b[0m \u001b[39m#ds_slice = ds_m.sel(x=slice(400000,650000))\u001b[39;00m\n\u001b[0;32m----> 2\u001b[0m animation_vars(ds_m, [\u001b[39m'\u001b[39m\u001b[39mmelt\u001b[39m\u001b[39m'\u001b[39m,\u001b[39m'\u001b[39m\u001b[39mdraft\u001b[39m\u001b[39m'\u001b[39m], np\u001b[39m.\u001b[39marange(\u001b[39m5\u001b[39m,\u001b[39m621\u001b[39m,\u001b[39m5\u001b[39m), meanvars\u001b[39m=\u001b[39mmean_ds, fps\u001b[39m=\u001b[39m\u001b[39m10\u001b[39m, savename\u001b[39m=\u001b[39m\u001b[39mf\u001b[39m\u001b[39m'\u001b[39m\u001b[39m{\u001b[39;00msave_name\u001b[39m}\u001b[39;00m\u001b[39m'\u001b[39m)\n",
      "\u001b[0;31mNameError\u001b[0m: name 'animation_vars' is not defined"
     ]
    }
   ],
   "source": [
    "#ds_slice = ds_m.sel(x=slice(400000,650000))\n",
    "animation_vars(ds_m, ['melt','draft'], np.arange(5,621,5), meanvars=mean_ds, fps=10, savename=f'{save_name}')"
   ]
  },
  {
   "cell_type": "code",
   "execution_count": null,
   "metadata": {},
   "outputs": [],
   "source": []
  }
 ],
 "metadata": {
  "kernelspec": {
   "display_name": "laddie",
   "language": "python",
   "name": "laddie"
  },
  "language_info": {
   "codemirror_mode": {
    "name": "ipython",
    "version": 3
   },
   "file_extension": ".py",
   "mimetype": "text/x-python",
   "name": "python",
   "nbconvert_exporter": "python",
   "pygments_lexer": "ipython3",
   "version": "3.9.15"
  },
  "orig_nbformat": 4
 },
 "nbformat": 4,
 "nbformat_minor": 2
}
