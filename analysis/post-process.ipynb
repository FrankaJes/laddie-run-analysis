{
 "cells": [
  {
   "cell_type": "code",
   "execution_count": null,
   "metadata": {},
   "outputs": [],
   "source": [
    "# Load necessary packages\n",
    "import numpy as np\n",
    "import xarray as xr\n",
    "import pandas as pd"
   ]
  },
  {
   "cell_type": "code",
   "execution_count": null,
   "metadata": {},
   "outputs": [],
   "source": [
    "# Specify path experiment output\n",
    "exp_class = 'CD-Paolo'\n",
    "run = 'r003_UF020_SY000_EY030'\n",
    "experiment_name = f'{exp_class}_{run}'\n",
    "experiment_path = f'../experiments/{exp_class}/{run[0:4]}/'\n",
    "\n",
    "# Define which time steps (in days) you want to read in\n",
    "time_range = np.arange(1,621, 1)\n",
    "\n",
    "files = []\n",
    "\n",
    "for i in time_range:\n",
    "    file = xr.open_dataset(f'{experiment_path}/{experiment_name}_{i:07.1f}.nc')\n",
    "    file.coords['t'] = i\n",
    "    files.append(file)\n",
    "\n",
    "# Concatenate the files over dimension t\n",
    "# if opt == 1, save the update frequency, start year and end year to the file. \n",
    "# Also, add a dimension t_year, to which year of the geometry the data belongs.\n",
    "ds_tot = xr.concat(files, dim='t')\n",
    "if len(run) > 4:\n",
    "    ds_tot = ds_tot.assign(update_frequency = int(experiment_name[-15:-12]))\n",
    "    ds_tot = ds_tot.assign(start_year = int(experiment_name[-9:-6]))\n",
    "    ds_tot = ds_tot.assign(end_year = int(experiment_name[-3:]))\n",
    "    ds_tot = ds_tot.assign_coords(t_year = (ds_tot.t-1)/ds_tot.update_frequency + ds_tot.start_year)\n",
    "\n",
    "ds_tot.to_netcdf(f'{experiment_path}/AA_{run}.nc')"
   ]
  }
 ],
 "metadata": {
  "kernelspec": {
   "display_name": "laddie",
   "language": "python",
   "name": "laddie"
  },
  "language_info": {
   "codemirror_mode": {
    "name": "ipython",
    "version": 3
   },
   "file_extension": ".py",
   "mimetype": "text/x-python",
   "name": "python",
   "nbconvert_exporter": "python",
   "pygments_lexer": "ipython3",
   "version": "3.9.15"
  },
  "orig_nbformat": 4,
  "vscode": {
   "interpreter": {
    "hash": "31f2aee4e71d21fbe5cf8b01ff0e069b9275f58929596ceb00d14d90e3e16cd6"
   }
  }
 },
 "nbformat": 4,
 "nbformat_minor": 2
}
