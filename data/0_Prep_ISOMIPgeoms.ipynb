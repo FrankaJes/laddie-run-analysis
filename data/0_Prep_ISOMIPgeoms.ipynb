{
 "cells": [
  {
   "cell_type": "code",
   "execution_count": 1,
   "metadata": {},
   "outputs": [],
   "source": [
    "import sys\n",
    "sys.path.append('../../laddie/src/')\n",
    "\n",
    "import numpy as np\n",
    "import xarray as xr\n",
    "import pandas as pd\n",
    "import os\n",
    "import copy\n",
    "import matplotlib as mpl\n",
    "import matplotlib.pyplot as plt\n",
    "import cmocean as cmo"
   ]
  },
  {
   "cell_type": "code",
   "execution_count": 3,
   "metadata": {},
   "outputs": [],
   "source": [
    "# Read in original ocean3 and ocean4 data\n",
    "OC3 = xr.open_dataset('original_data/Ocean3_input_geom_v1.01.nc')\n",
    "OC4 = xr.open_dataset('original_data/Ocean4_input_geom_v1.01.nc')\n",
    "\n",
    "# Compute thickness, mask and rename surface, bed\n",
    "OC3_2 = OC3.rename(name_dict={'bedrockTopography':'bed', 'upperSurface':'surface', 'lowerSurface':'draft'})\n",
    "OC3_2['mask'] = xr.where(OC3.floatingMask==1,3,np.nan)\n",
    "OC3_2['mask'] = xr.where(OC3.openOceanMask==1,0,OC3_2.mask)\n",
    "OC3_2['mask'] = xr.where(OC3.groundedMask==1,2,OC3_2.mask)\n",
    "OC3_2['thickness'] = xr.where(OC3_2.mask>0, OC3_2.surface - OC3_2.draft, np.nan)\n",
    "OC3_new = OC3_2.drop_vars([\"openOceanMask\", \"groundedMask\",\"floatingMask\"])\n",
    "\n",
    "OC4_2 = OC4.rename(name_dict={'bedrockTopography':'bed', 'upperSurface':'surface', 'lowerSurface':'draft'})\n",
    "OC4_2['mask'] = xr.where(OC4.floatingMask==1,3,np.nan)\n",
    "OC4_2['mask'] = xr.where(OC4.openOceanMask==1,0,OC4_2.mask)\n",
    "OC4_2['mask'] = xr.where(OC4.groundedMask==1,2,OC4_2.mask)\n",
    "OC4_2['thickness'] = xr.where(OC4_2.mask>0, OC4_2.surface - OC4_2.draft, np.nan)\n",
    "OC4_new = OC4_2.drop_vars([\"openOceanMask\", \"groundedMask\",\"floatingMask\"])\n",
    "\n",
    "# Add grounded ice east of domain to prevent cyclic boundary conditions\n",
    "boarder = OC3_new.isel(y=[78,79])\n",
    "boarders = boarder.assign_coords({\"y\": boarder.y + 2000})\n",
    "boarders['mask'] = xr.where(np.logical_or(boarders.mask == 0,boarders.mask ==3), 2, boarders.mask)\n",
    "OC3_boarder = xr.concat([OC3_new,boarders],dim='y')\n",
    "\n",
    "boarder = OC4_new.isel(y=[78,79])\n",
    "boarders = boarder.assign_coords({\"y\": boarder.y + 2000})\n",
    "boarders['mask'] = xr.where(np.logical_or(boarders.mask == 0,boarders.mask ==3), 2, boarders.mask)\n",
    "OC4_boarder = xr.concat([OC4_new,boarders],dim='y')\n",
    "\n",
    "# Save new files to data folder\n",
    "OC3_boarder.to_netcdf('OC3.nc')\n",
    "OC4_boarder.to_netcdf('OC4.nc')"
   ]
  }
 ],
 "metadata": {
  "kernelspec": {
   "display_name": "laddie",
   "language": "python",
   "name": "laddie"
  },
  "language_info": {
   "codemirror_mode": {
    "name": "ipython",
    "version": 3
   },
   "file_extension": ".py",
   "mimetype": "text/x-python",
   "name": "python",
   "nbconvert_exporter": "python",
   "pygments_lexer": "ipython3",
   "version": "3.9.15"
  },
  "orig_nbformat": 4,
  "vscode": {
   "interpreter": {
    "hash": "31f2aee4e71d21fbe5cf8b01ff0e069b9275f58929596ceb00d14d90e3e16cd6"
   }
  }
 },
 "nbformat": 4,
 "nbformat_minor": 2
}
