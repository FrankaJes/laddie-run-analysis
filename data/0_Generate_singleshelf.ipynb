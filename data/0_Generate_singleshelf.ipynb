{
 "cells": [
  {
   "cell_type": "code",
   "execution_count": 1,
   "metadata": {},
   "outputs": [],
   "source": [
    "import sys\n",
    "sys.path.append('../../laddie/src/')\n",
    "\n",
    "import numpy as np\n",
    "import xarray as xr\n",
    "import pandas as pd\n",
    "import os\n",
    "import copy\n",
    "import matplotlib as mpl\n",
    "import matplotlib.pyplot as plt\n",
    "import cmocean as cmo"
   ]
  },
  {
   "cell_type": "markdown",
   "metadata": {},
   "source": [
    "## Steady geometry"
   ]
  },
  {
   "cell_type": "code",
   "execution_count": 3,
   "metadata": {},
   "outputs": [],
   "source": [
    "# Select ice shelf\n",
    "shelfname = 'PI'\n",
    "\n",
    "# Read in BedMachine data\n",
    "BM = xr.open_dataset('../../data/BedMachineAntarctica_2020-07-15_v02.nc')\n",
    "\n",
    "if shelfname == 'CD':\n",
    "    x0,x1,y0,y1 = 3445,3740,7730,8070   # CD\n",
    "elif shelfname == 'PI':\n",
    "    x0,x1,y0,y1 = 3280,3560,7150,7400   # PI\n",
    "\n",
    "# Cut out shelf region\n",
    "shelf = BM.isel(x=slice(x0,x1),y=slice(y0,y1))\n",
    "\n",
    "shelf.mask[:] = xr.where(shelf.mask==1,2,shelf.mask)                    # adjust mask, mark bare ground as grounded ice (but thickness is zero there)\n",
    "shelf['draft'] = (shelf.surface-shelf.thickness).astype('float64')      # add draft\n",
    "shelf = shelf.assign_coords(t=0)                                        # add time stamp\n",
    "\n",
    "\n",
    "shelf.to_netcdf(f'BedMachine_singleshelves/{shelfname}.nc')"
   ]
  },
  {
   "attachments": {},
   "cell_type": "markdown",
   "metadata": {},
   "source": [
    "## Variable geometry -- using Paolo et al. 2022 thinning rates"
   ]
  },
  {
   "cell_type": "code",
   "execution_count": null,
   "metadata": {},
   "outputs": [],
   "source": [
    "# Select ice shelf\n",
    "shelfname = 'CD'\n",
    "\n",
    "# Specify number of new geometries to compute from thinning rates Paolo\n",
    "updates = 30\n",
    "\n",
    "# Read in BedMachine data\n",
    "BM = xr.open_dataset('../../data/BedMachineAntarctica_2020-07-15_v02.nc')\n",
    "\n",
    "if shelfname == 'CD':\n",
    "    x0,x1,y0,y1 = 3445,3740,7730,8070   # CD\n",
    "    thinning_grounded = 2.1\n",
    "    thinning_shelf_fraction = 0.0085 \n",
    "\n",
    "elif shelfname == 'PI':\n",
    "    x0,x1,y0,y1 = 3280,3560,7150,7400   # PI\n",
    "    thinning_grounded = 1.8\n",
    "    thinning_shelf_fraction = 0.0045 \n",
    "\n",
    "# Cut out shelf region\n",
    "shelf = BM.isel(x=slice(x0,x1),y=slice(y0,y1))\n",
    "\n",
    "shelf.mask[:] = xr.where(shelf.mask==1,2,shelf.mask)                    # adjust mask, mark bare ground as grounded ice (but thickness is zero there)\n",
    "shelf['draft'] = (shelf.surface-shelf.thickness).astype('float64')      # add draft\n",
    "\n",
    "shelf_original = shelf.assign_coords(t=0)                               # add time stamp\n",
    "shelf_original = shelf_original.assign(Hf = 0*shelf.bed)                # add maximum floating thickness\n",
    "shelf_original = shelf_original.assign(th_change = 0*shelf.bed)         # add variable for thickness change\n",
    "\n",
    "shelf_newgeoms = [shelf_original]                                       # list of shelf geometries\n",
    "\n",
    "th = []\n",
    "\n",
    "# loop over number of updates\n",
    "for i in range(updates):\n",
    "    shelf_n = copy.copy(shelf)\n",
    "\n",
    "    shelf_n = shelf_n.assign(Hf = -(1+(1/9))*shelf_n.bed)\n",
    "\n",
    "    thickness_change_shelf  = xr.where(shelf_n.mask==3, shelf_n['thickness'] * thinning_shelf_fraction, 0)\n",
    "    thickness_change_ground = xr.where(shelf_n.mask==2, thinning_grounded, 0)\n",
    "    thickness_change = thickness_change_shelf+thickness_change_ground\n",
    "\n",
    "    th.append(thickness_change)\n",
    "    \n",
    "    shelf_n = shelf_n.assign(th_change = thickness_change)\n",
    "    \n",
    "    shelf_n['thickness'] = shelf_n['thickness'] - thickness_change\n",
    "\n",
    "    shelf_n['mask'] = xr.where(np.logical_and(shelf_n.mask==2, shelf_n.Hf>shelf_n.thickness),3, shelf_n.mask)\n",
    "    \n",
    "    shelf_n['surface'] = xr.where(shelf_n['mask']==3, shelf_n['thickness']*0.1, shelf_n['surface']-thickness_change)\n",
    "\n",
    "    shelf_n['draft'] = (shelf_n.surface-shelf_n.thickness).astype('float64')\n",
    "\n",
    "    shelf = shelf_n\n",
    "\n",
    "    shelf_n = shelf_n.assign_coords(t=i+1)\n",
    "\n",
    "    shelf_newgeoms.append(shelf_n)\n",
    "\n",
    "\n",
    "    i = i + 1\n",
    "\n",
    "\n",
    "shelf_set = xr.concat(shelf_newgeoms, dim='t')\n",
    "shelf_set = shelf_set.isel(y=slice(None, None, -1))\n",
    "\n",
    "shelf_set.to_netcdf(f'Paolo-variablegeom/{shelfname}_paolo_{updates}yrs_new.nc')"
   ]
  }
 ],
 "metadata": {
  "kernelspec": {
   "display_name": "laddie",
   "language": "python",
   "name": "laddie"
  },
  "language_info": {
   "codemirror_mode": {
    "name": "ipython",
    "version": 3
   },
   "file_extension": ".py",
   "mimetype": "text/x-python",
   "name": "python",
   "nbconvert_exporter": "python",
   "pygments_lexer": "ipython3",
   "version": "3.9.15"
  },
  "orig_nbformat": 4,
  "vscode": {
   "interpreter": {
    "hash": "31f2aee4e71d21fbe5cf8b01ff0e069b9275f58929596ceb00d14d90e3e16cd6"
   }
  }
 },
 "nbformat": 4,
 "nbformat_minor": 2
}
