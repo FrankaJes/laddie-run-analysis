{
 "cells": [
  {
   "cell_type": "code",
   "execution_count": null,
   "metadata": {},
   "outputs": [],
   "source": [
    "import sys\n",
    "sys.path.append('../../../../laddie/src/')\n",
    "sys.path.append('../../../src2/')\n",
    "\n",
    "import numpy as np\n",
    "import xarray as xr\n",
    "import pandas as pd\n",
    "import os\n",
    "\n",
    "import matplotlib as mpl\n",
    "import matplotlib.pyplot as plt\n",
    "import cmocean as cmo\n",
    "\n",
    "from laddie2 import Laddie\n",
    "from geometry3 import Geometry\n",
    "from forcing import Forcing\n",
    "from tools import im,jm\n",
    "from tools import im,jm\n",
    "\n",
    "\n",
    "%matplotlib inline\n",
    "%config InlineBackend.print_figure_kwargs={'bbox_inches':None}\n",
    "%load_ext autoreload\n",
    "%autoreload 2"
   ]
  },
  {
   "cell_type": "code",
   "execution_count": null,
   "metadata": {},
   "outputs": [],
   "source": [
    "exp_class = os.getcwd()[64:-5]\n",
    "run = os.getcwd()[-4:]\n",
    "savename = f'{exp_class}_{run}'\n",
    "print(f'Documents are saved to folder \\'{os.getcwd()}\\' with save name', savename)"
   ]
  },
  {
   "cell_type": "code",
   "execution_count": null,
   "metadata": {},
   "outputs": [],
   "source": [
    "# Select input file geometry and initial geometry at t = 0\n",
    "ds_geom = xr.open_dataset('../../../data/Paolo-variablegeom/PI_paolo_30yrs.nc')\n",
    "ds_t0 = ds_geom.isel(t=0)\n",
    "\n",
    "# Generate geometry\n",
    "N = 2                          # standard resolution is at 500 m, N = 2: 1 km, N = 4: 2 km !!! DOES NOT WORK PROPERLY\n",
    "geom = Geometry(ds_t0, savename)\n",
    "geom.coarsen(N=N)\n",
    "geom = geom.create()\n",
    "\n",
    "# Select forcing\n",
    "forc = Forcing(geom).isomip('WARM')"
   ]
  },
  {
   "cell_type": "code",
   "execution_count": null,
   "metadata": {},
   "outputs": [],
   "source": [
    "# Set up LADDIE\n",
    "laddie = Laddie(forc)\n",
    "\n",
    "laddie.geomname = savename\n",
    "laddie.N = N\n",
    "laddie.opt = 1\n",
    "laddie.calving = True\n",
    "\n",
    "laddie.Ah = 50               #Horizontal viscosity\n",
    "laddie.Kh = 50              #Horizontal diffusivity\n",
    "laddie.slip = .5            #Semi-slip\n",
    "laddie.convop = 1\n",
    "\n",
    "laddie.calving = True\n",
    "laddie.correctisf = True    #Correct ice front\n",
    "laddie.nnUV = 1             #Weight of nearest neighbours for new cells\n",
    "laddie.vcut = 1             #maximum velocity\n",
    "\n",
    "laddie.Cdtop = 1.1e-3       #Top drag coefficient\n",
    "laddie.minD = 2.8             #Minimum layer thickness\n",
    "laddie.dt = 180             #Time step\n",
    "laddie.nu = .5\n",
    "laddie.gamTfix = None"
   ]
  },
  {
   "cell_type": "code",
   "execution_count": null,
   "metadata": {},
   "outputs": [],
   "source": [
    "# Run with prescribed geometry changes based on Paolo et al. 2022\n",
    "ds_update = ds_geom.isel(t=slice(1,31))\n",
    "\n",
    "laddiedays = 1 # number of days to integrate laddie for each ice time step\n",
    "laddiedayspergeom = 20 # number of days to spin up laddie\n",
    "\n",
    "laddie.saveday = laddiedays\n",
    "laddie.restday = 10000\n",
    "\n",
    "if laddie.opt == 1:\n",
    "    savename = f'{exp_class}_{run}'\n",
    "    SY = int(geom.t.values)\n",
    "    EY = int(ds_update.t.values[-1])\n",
    "    savename = f'{savename}_UF{laddiedayspergeom:03.0f}_SY{SY:03.0f}_EY{EY:03.0f}'\n",
    "\n",
    "ds = laddie.compute2(days=laddiedayspergeom, prescribed_geom_ds= ds_update, savename=f'{os.getcwd()}/{savename}')"
   ]
  },
  {
   "cell_type": "code",
   "execution_count": null,
   "metadata": {},
   "outputs": [],
   "source": []
  }
 ],
 "metadata": {
  "kernelspec": {
   "display_name": "laddie",
   "language": "python",
   "name": "laddie"
  },
  "language_info": {
   "codemirror_mode": {
    "name": "ipython",
    "version": 3
   },
   "file_extension": ".py",
   "mimetype": "text/x-python",
   "name": "python",
   "nbconvert_exporter": "python",
   "pygments_lexer": "ipython3",
   "version": "3.9.15"
  },
  "orig_nbformat": 4,
  "vscode": {
   "interpreter": {
    "hash": "31f2aee4e71d21fbe5cf8b01ff0e069b9275f58929596ceb00d14d90e3e16cd6"
   }
  }
 },
 "nbformat": 4,
 "nbformat_minor": 2
}
