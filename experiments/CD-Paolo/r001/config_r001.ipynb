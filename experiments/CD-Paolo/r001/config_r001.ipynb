{
 "cells": [
  {
   "cell_type": "code",
   "execution_count": 1,
   "metadata": {},
   "outputs": [],
   "source": [
    "import sys\n",
    "sys.path.append('../../../../laddie/src/')\n",
    "sys.path.append('../../../src2/')\n",
    "\n",
    "import numpy as np\n",
    "import xarray as xr\n",
    "import pandas as pd\n",
    "import os\n",
    "\n",
    "import matplotlib as mpl\n",
    "import matplotlib.pyplot as plt\n",
    "import cmocean as cmo\n",
    "\n",
    "from laddie import Laddie\n",
    "from geometry3 import Geometry\n",
    "from forcing import Forcing\n",
    "from tools import im,jm\n",
    "from tools import im,jm\n",
    "\n",
    "\n",
    "%matplotlib inline\n",
    "%config InlineBackend.print_figure_kwargs={'bbox_inches':None}\n",
    "%load_ext autoreload\n",
    "%autoreload 2"
   ]
  },
  {
   "cell_type": "code",
   "execution_count": 2,
   "metadata": {},
   "outputs": [
    {
     "name": "stdout",
     "output_type": "stream",
     "text": [
      "Documents are saved to folder '/Users/5941962/Documents/GitHub/laddie-run-analysis/experiments/CD-Paolo/r001' with save name CD-Paolo_r001\n"
     ]
    }
   ],
   "source": [
    "exp_class = os.getcwd()[64:-5]\n",
    "run = os.getcwd()[-4:]\n",
    "savename = f'{exp_class}_{run}'\n",
    "print(f'Documents are saved to folder \\'{os.getcwd()}\\' with save name', savename)"
   ]
  },
  {
   "cell_type": "code",
   "execution_count": null,
   "metadata": {},
   "outputs": [],
   "source": [
    "# Select input file geometry and initial geometry at t = 0\n",
    "ds = xr.open_dataset('../../../data/Paolo-variablegeom/CD_paolo_30yrs.nc')\n",
    "ds_t0 = ds.isel(t=0)\n",
    "\n",
    "# Generate geometry\n",
    "N = 2                          # standard resolution is at 500 m, N = 2: 1 km, N = 4: 2 km !!! DOES NOT WORK PROPERLY\n",
    "geom = Geometry(ds_t0, savename)\n",
    "geom.coarsen(N=N)\n",
    "geom = geom.create()\n",
    "\n",
    "# Select forcing\n",
    "forc = Forcing(geom).isomip('WARM')"
   ]
  },
  {
   "cell_type": "code",
   "execution_count": null,
   "metadata": {},
   "outputs": [],
   "source": [
    "# Set up LADDIE\n",
    "laddie = Laddie(forc)\n",
    "\n",
    "laddie.Ah = 6               #Horizontal viscosity\n",
    "laddie.Kh = 1               #Horizontal diffusivity\n",
    "laddie.ci = 0               #Assume insulation ice\n",
    "laddie.slip = .5            #Semi-slip\n",
    "laddie.convop = 1\n",
    "\n",
    "laddie.correctisf = True    #Correct ice front\n",
    "laddie.nnUV = 1             #Weight of nearest neighbours for new cells\n",
    "laddie.vcut = 1             #maximum velocity\n",
    "\n",
    "laddie.Cdtop = 2.5e-3       #Top drag coefficient\n",
    "laddie.minD = 4             #Minimum layer thickness\n",
    "laddie.dt = 120             #Time step\n",
    "laddie.nu = .5\n",
    "laddie.gamTfix = 0.00018"
   ]
  },
  {
   "cell_type": "code",
   "execution_count": null,
   "metadata": {},
   "outputs": [],
   "source": [
    "laddiedays = 1 # number of days to integrate laddie for each ice time step\n",
    "laddiespinup = 20 # number of days to spin up laddie\n",
    "\n",
    "laddie.saveday = laddiedays\n",
    "laddie.restday = 100\n",
    "\n",
    "ds = laddie.compute(days=laddiespinup, savename=f'{os.getcwd()}/{savename}')"
   ]
  },
  {
   "cell_type": "code",
   "execution_count": null,
   "metadata": {},
   "outputs": [],
   "source": []
  }
 ],
 "metadata": {
  "kernelspec": {
   "display_name": "laddie",
   "language": "python",
   "name": "laddie"
  },
  "language_info": {
   "codemirror_mode": {
    "name": "ipython",
    "version": 3
   },
   "file_extension": ".py",
   "mimetype": "text/x-python",
   "name": "python",
   "nbconvert_exporter": "python",
   "pygments_lexer": "ipython3",
   "version": "3.9.15"
  },
  "orig_nbformat": 4,
  "vscode": {
   "interpreter": {
    "hash": "31f2aee4e71d21fbe5cf8b01ff0e069b9275f58929596ceb00d14d90e3e16cd6"
   }
  }
 },
 "nbformat": 4,
 "nbformat_minor": 2
}
